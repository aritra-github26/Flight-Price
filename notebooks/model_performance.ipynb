{
 "cells": [
  {
   "cell_type": "code",
   "execution_count": 26,
   "metadata": {},
   "outputs": [],
   "source": [
    "import numpy as np\n",
    "import pandas as pd"
   ]
  },
  {
   "cell_type": "code",
   "execution_count": 30,
   "metadata": {},
   "outputs": [
    {
     "data": {
      "text/html": [
       "<div>\n",
       "<style scoped>\n",
       "    .dataframe tbody tr th:only-of-type {\n",
       "        vertical-align: middle;\n",
       "    }\n",
       "\n",
       "    .dataframe tbody tr th {\n",
       "        vertical-align: top;\n",
       "    }\n",
       "\n",
       "    .dataframe thead th {\n",
       "        text-align: right;\n",
       "    }\n",
       "</style>\n",
       "<table border=\"1\" class=\"dataframe\">\n",
       "  <thead>\n",
       "    <tr style=\"text-align: right;\">\n",
       "      <th></th>\n",
       "      <th>Airline</th>\n",
       "      <th>Source</th>\n",
       "      <th>Destination</th>\n",
       "      <th>Total_Stops</th>\n",
       "      <th>Additional_Info</th>\n",
       "      <th>Price</th>\n",
       "      <th>day</th>\n",
       "      <th>month</th>\n",
       "      <th>Duration_min</th>\n",
       "    </tr>\n",
       "  </thead>\n",
       "  <tbody>\n",
       "    <tr>\n",
       "      <th>0</th>\n",
       "      <td>3</td>\n",
       "      <td>0</td>\n",
       "      <td>7</td>\n",
       "      <td>0</td>\n",
       "      <td>8</td>\n",
       "      <td>3897.0</td>\n",
       "      <td>24</td>\n",
       "      <td>3</td>\n",
       "      <td>170</td>\n",
       "    </tr>\n",
       "    <tr>\n",
       "      <th>1</th>\n",
       "      <td>1</td>\n",
       "      <td>5</td>\n",
       "      <td>0</td>\n",
       "      <td>2</td>\n",
       "      <td>8</td>\n",
       "      <td>7662.0</td>\n",
       "      <td>1</td>\n",
       "      <td>5</td>\n",
       "      <td>445</td>\n",
       "    </tr>\n",
       "    <tr>\n",
       "      <th>2</th>\n",
       "      <td>4</td>\n",
       "      <td>3</td>\n",
       "      <td>2</td>\n",
       "      <td>2</td>\n",
       "      <td>8</td>\n",
       "      <td>13882.0</td>\n",
       "      <td>9</td>\n",
       "      <td>6</td>\n",
       "      <td>1140</td>\n",
       "    </tr>\n",
       "    <tr>\n",
       "      <th>3</th>\n",
       "      <td>3</td>\n",
       "      <td>5</td>\n",
       "      <td>0</td>\n",
       "      <td>1</td>\n",
       "      <td>8</td>\n",
       "      <td>6218.0</td>\n",
       "      <td>12</td>\n",
       "      <td>5</td>\n",
       "      <td>325</td>\n",
       "    </tr>\n",
       "    <tr>\n",
       "      <th>4</th>\n",
       "      <td>3</td>\n",
       "      <td>0</td>\n",
       "      <td>7</td>\n",
       "      <td>1</td>\n",
       "      <td>8</td>\n",
       "      <td>13302.0</td>\n",
       "      <td>1</td>\n",
       "      <td>3</td>\n",
       "      <td>285</td>\n",
       "    </tr>\n",
       "  </tbody>\n",
       "</table>\n",
       "</div>"
      ],
      "text/plain": [
       "   Airline  Source  Destination  Total_Stops  Additional_Info    Price  day  \\\n",
       "0        3       0            7            0                8   3897.0   24   \n",
       "1        1       5            0            2                8   7662.0    1   \n",
       "2        4       3            2            2                8  13882.0    9   \n",
       "3        3       5            0            1                8   6218.0   12   \n",
       "4        3       0            7            1                8  13302.0    1   \n",
       "\n",
       "   month  Duration_min  \n",
       "0      3           170  \n",
       "1      5           445  \n",
       "2      6          1140  \n",
       "3      5           325  \n",
       "4      3           285  "
      ]
     },
     "execution_count": 30,
     "metadata": {},
     "output_type": "execute_result"
    }
   ],
   "source": [
    "df = pd.read_csv('transformed_data.csv')\n",
    "df.head()"
   ]
  },
  {
   "cell_type": "code",
   "execution_count": 31,
   "metadata": {},
   "outputs": [
    {
     "name": "stdout",
     "output_type": "stream",
     "text": [
      "<class 'pandas.core.frame.DataFrame'>\n",
      "RangeIndex: 10462 entries, 0 to 10461\n",
      "Data columns (total 9 columns):\n",
      " #   Column           Non-Null Count  Dtype  \n",
      "---  ------           --------------  -----  \n",
      " 0   Airline          10462 non-null  int64  \n",
      " 1   Source           10462 non-null  int64  \n",
      " 2   Destination      10462 non-null  int64  \n",
      " 3   Total_Stops      10462 non-null  int64  \n",
      " 4   Additional_Info  10462 non-null  int64  \n",
      " 5   Price            10462 non-null  float64\n",
      " 6   day              10462 non-null  int64  \n",
      " 7   month            10462 non-null  int64  \n",
      " 8   Duration_min     10462 non-null  int64  \n",
      "dtypes: float64(1), int64(8)\n",
      "memory usage: 735.7 KB\n"
     ]
    }
   ],
   "source": [
    "df.info()"
   ]
  },
  {
   "cell_type": "code",
   "execution_count": 34,
   "metadata": {},
   "outputs": [
    {
     "name": "stdout",
     "output_type": "stream",
     "text": [
      "(8369, 8) (8369,) (2093, 8) (2093,)\n"
     ]
    }
   ],
   "source": [
    "from sklearn.model_selection import train_test_split\n",
    "\n",
    "X = df.drop('Price', axis=1)\n",
    "y = df['Price']\n",
    "\n",
    "X_train, X_test, y_train, y_test = train_test_split(X, y, test_size=0.2, random_state=42)\n",
    "print(X_train.shape, y_train.shape, X_test.shape, y_test.shape)"
   ]
  },
  {
   "cell_type": "code",
   "execution_count": 51,
   "metadata": {},
   "outputs": [],
   "source": [
    "from sklearn.preprocessing import StandardScaler\n",
    "\n",
    "scaler = StandardScaler()\n",
    "X_train_scaled = scaler.fit_transform(X_train)\n",
    "X_test_scaled = scaler.transform(X_test)\n"
   ]
  },
  {
   "cell_type": "code",
   "execution_count": 40,
   "metadata": {},
   "outputs": [],
   "source": [
    "from sklearn.linear_model import LinearRegression, Ridge, Lasso, ElasticNetCV\n",
    "from sklearn.tree import DecisionTreeRegressor\n",
    "from sklearn.ensemble import RandomForestRegressor, GradientBoostingRegressor, AdaBoostRegressor\n",
    "from sklearn.neighbors import KNeighborsRegressor\n",
    "from sklearn.svm import SVR\n",
    "from xgboost import XGBRegressor\n",
    "from sklearn.metrics import r2_score"
   ]
  },
  {
   "cell_type": "code",
   "execution_count": 52,
   "metadata": {},
   "outputs": [],
   "source": [
    "models = [\n",
    "    ['LinearRegression : ', LinearRegression()],\n",
    "    ['Lasso : ', Lasso()],\n",
    "    ['Ridge : ', Ridge()],\n",
    "    ['ElasticNet :', ElasticNet()],\n",
    "    ['KNeighborsRegressor : ', KNeighborsRegressor()],\n",
    "    ['DecisionTreeRegressor : ', DecisionTreeRegressor()],\n",
    "    ['RandomForestRegressor : ', RandomForestRegressor()],\n",
    "    ['GradientBoostingRegressor : ', GradientBoostingRegressor()],\n",
    "    ['XGBRegressor : ', XGBRegressor()],\n",
    "    ['SVR : ', SVR()],\n",
    "    ['AdaBoostRegressor : ', AdaBoostRegressor()]\n",
    "]"
   ]
  },
  {
   "cell_type": "code",
   "execution_count": 53,
   "metadata": {},
   "outputs": [
    {
     "name": "stdout",
     "output_type": "stream",
     "text": [
      "LinearRegression :  0.6633862466699987\n",
      "Lasso :  0.663387586655805\n",
      "Ridge :  0.6633890042293565\n",
      "ElasticNet : 0.6075393258479974\n",
      "KNeighborsRegressor :  0.7573152210707371\n",
      "DecisionTreeRegressor :  0.8694715942992624\n",
      "RandomForestRegressor :  0.9137567672365122\n",
      "GradientBoostingRegressor :  0.895835960621256\n",
      "XGBRegressor :  0.924780056687072\n",
      "SVR :  0.40858493968202075\n",
      "AdaBoostRegressor :  0.7135097574327856\n"
     ]
    }
   ],
   "source": [
    "for name, model in models:\n",
    "    model=model\n",
    "    model.fit(X_train, y_train)\n",
    "    predictions = model.predict(X_test)\n",
    "    print(name, (np.sqrt(r2_score(y_test, predictions))))"
   ]
  },
  {
   "cell_type": "code",
   "execution_count": 55,
   "metadata": {},
   "outputs": [],
   "source": [
    "algorithms = {\n",
    "    'XGBRegressor' : {\n",
    "        'model' : XGBRegressor(),\n",
    "        'param' : {\n",
    "            'learning_rate' : [0.1, 0.3, 0.5, 0.25],\n",
    "            'max_depth' : [3, 5, 7],\n",
    "            'gamma' : [0.1, 0.3, 0.5],\n",
    "            'min_child_weight' : [3, 5, 7, 9],\n",
    "        }\n",
    "    },\n",
    "    'RandomForestRegressor' : {\n",
    "        'model' : RandomForestRegressor(),\n",
    "        'param' : {\n",
    "            'n_estimators' : [1000, 300, 500],\n",
    "            'max_depth' : [9, 5, 7],\n",
    "            'min_samples_split' : [2, 4, 6, 8]\n",
    "        }\n",
    "    },\n",
    "    'GradientBoostingRegressor' : {\n",
    "        'model' : GradientBoostingRegressor(),\n",
    "        'param' : {\n",
    "            'learning_rate' : [0.5, 0.1, 0.20, 0.30],\n",
    "            'n_estimators' : [300, 500, 1000],\n",
    "        }\n",
    "    }\n",
    "}\n",
    "\n",
    "from sklearn.model_selection import GridSearchCV"
   ]
  },
  {
   "cell_type": "code",
   "execution_count": 56,
   "metadata": {},
   "outputs": [
    {
     "name": "stdout",
     "output_type": "stream",
     "text": [
      "Fitting 10 folds for each of 144 candidates, totalling 1440 fits\n",
      "Fitting 10 folds for each of 36 candidates, totalling 360 fits\n",
      "Fitting 10 folds for each of 12 candidates, totalling 120 fits\n"
     ]
    }
   ],
   "source": [
    "score = []\n",
    "\n",
    "for name, mp in algorithms.items() :\n",
    "    rs = GridSearchCV(estimator = mp['model'], param_grid = mp['param'], cv = 10, n_jobs=-1, verbose=3)\n",
    "    rs.fit(X_train, y_train)\n",
    "    score.append({\n",
    "        'model': name,\n",
    "        'score' : rs.best_score_,\n",
    "        'params' : rs.best_params_\n",
    "    })"
   ]
  },
  {
   "cell_type": "code",
   "execution_count": 57,
   "metadata": {},
   "outputs": [
    {
     "data": {
      "text/html": [
       "<div>\n",
       "<style scoped>\n",
       "    .dataframe tbody tr th:only-of-type {\n",
       "        vertical-align: middle;\n",
       "    }\n",
       "\n",
       "    .dataframe tbody tr th {\n",
       "        vertical-align: top;\n",
       "    }\n",
       "\n",
       "    .dataframe thead th {\n",
       "        text-align: right;\n",
       "    }\n",
       "</style>\n",
       "<table border=\"1\" class=\"dataframe\">\n",
       "  <thead>\n",
       "    <tr style=\"text-align: right;\">\n",
       "      <th></th>\n",
       "      <th>model</th>\n",
       "      <th>score</th>\n",
       "      <th>params</th>\n",
       "    </tr>\n",
       "  </thead>\n",
       "  <tbody>\n",
       "    <tr>\n",
       "      <th>0</th>\n",
       "      <td>XGBRegressor</td>\n",
       "      <td>0.858842</td>\n",
       "      <td>{'gamma': 0.1, 'learning_rate': 0.3, 'max_dept...</td>\n",
       "    </tr>\n",
       "    <tr>\n",
       "      <th>1</th>\n",
       "      <td>RandomForestRegressor</td>\n",
       "      <td>0.815423</td>\n",
       "      <td>{'max_depth': 9, 'min_samples_split': 4, 'n_es...</td>\n",
       "    </tr>\n",
       "    <tr>\n",
       "      <th>2</th>\n",
       "      <td>GradientBoostingRegressor</td>\n",
       "      <td>0.851813</td>\n",
       "      <td>{'learning_rate': 0.3, 'n_estimators': 1000}</td>\n",
       "    </tr>\n",
       "  </tbody>\n",
       "</table>\n",
       "</div>"
      ],
      "text/plain": [
       "                       model     score  \\\n",
       "0               XGBRegressor  0.858842   \n",
       "1      RandomForestRegressor  0.815423   \n",
       "2  GradientBoostingRegressor  0.851813   \n",
       "\n",
       "                                              params  \n",
       "0  {'gamma': 0.1, 'learning_rate': 0.3, 'max_dept...  \n",
       "1  {'max_depth': 9, 'min_samples_split': 4, 'n_es...  \n",
       "2       {'learning_rate': 0.3, 'n_estimators': 1000}  "
      ]
     },
     "execution_count": 57,
     "metadata": {},
     "output_type": "execute_result"
    }
   ],
   "source": [
    "final = pd.DataFrame(score, columns=['model', 'score', 'params'])\n",
    "final"
   ]
  },
  {
   "cell_type": "code",
   "execution_count": 61,
   "metadata": {},
   "outputs": [
    {
     "name": "stdout",
     "output_type": "stream",
     "text": [
      "XGBRegressor\n",
      "0.8588417530089341\n",
      "{'gamma': 0.1, 'learning_rate': 0.3, 'max_depth': 7, 'min_child_weight': 9}\n"
     ]
    }
   ],
   "source": [
    "for i in final.iloc[0, :]:\n",
    "    print(i)"
   ]
  },
  {
   "cell_type": "code",
   "execution_count": null,
   "metadata": {},
   "outputs": [],
   "source": []
  }
 ],
 "metadata": {
  "kernelspec": {
   "display_name": "Python 3",
   "language": "python",
   "name": "python3"
  },
  "language_info": {
   "codemirror_mode": {
    "name": "ipython",
    "version": 3
   },
   "file_extension": ".py",
   "mimetype": "text/x-python",
   "name": "python",
   "nbconvert_exporter": "python",
   "pygments_lexer": "ipython3",
   "version": "3.11.0"
  }
 },
 "nbformat": 4,
 "nbformat_minor": 2
}
