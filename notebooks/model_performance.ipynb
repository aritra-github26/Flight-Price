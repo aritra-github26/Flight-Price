{
 "cells": [
  {
   "cell_type": "code",
   "execution_count": 8,
   "metadata": {},
   "outputs": [],
   "source": [
    "import numpy as np\n",
    "import pandas as pd"
   ]
  },
  {
   "cell_type": "code",
   "execution_count": 9,
   "metadata": {},
   "outputs": [
    {
     "data": {
      "text/html": [
       "<div>\n",
       "<style scoped>\n",
       "    .dataframe tbody tr th:only-of-type {\n",
       "        vertical-align: middle;\n",
       "    }\n",
       "\n",
       "    .dataframe tbody tr th {\n",
       "        vertical-align: top;\n",
       "    }\n",
       "\n",
       "    .dataframe thead th {\n",
       "        text-align: right;\n",
       "    }\n",
       "</style>\n",
       "<table border=\"1\" class=\"dataframe\">\n",
       "  <thead>\n",
       "    <tr style=\"text-align: right;\">\n",
       "      <th></th>\n",
       "      <th>Total_Stops</th>\n",
       "      <th>Price</th>\n",
       "      <th>day</th>\n",
       "      <th>month</th>\n",
       "      <th>Duration_min</th>\n",
       "      <th>Source_Banglore</th>\n",
       "      <th>Source_Chennai</th>\n",
       "      <th>Source_Delhi</th>\n",
       "      <th>Source_Kolkata</th>\n",
       "      <th>Source_Mumbai</th>\n",
       "      <th>...</th>\n",
       "      <th>Additional_Info_1 Long layover</th>\n",
       "      <th>Additional_Info_1 Short layover</th>\n",
       "      <th>Additional_Info_2 Long layover</th>\n",
       "      <th>Additional_Info_Business class</th>\n",
       "      <th>Additional_Info_Change airports</th>\n",
       "      <th>Additional_Info_In-flight meal not included</th>\n",
       "      <th>Additional_Info_No Info</th>\n",
       "      <th>Additional_Info_No check-in baggage included</th>\n",
       "      <th>Additional_Info_No info</th>\n",
       "      <th>Additional_Info_Red-eye flight</th>\n",
       "    </tr>\n",
       "  </thead>\n",
       "  <tbody>\n",
       "    <tr>\n",
       "      <th>0</th>\n",
       "      <td>0</td>\n",
       "      <td>3897.0</td>\n",
       "      <td>24</td>\n",
       "      <td>3</td>\n",
       "      <td>170</td>\n",
       "      <td>True</td>\n",
       "      <td>False</td>\n",
       "      <td>False</td>\n",
       "      <td>False</td>\n",
       "      <td>False</td>\n",
       "      <td>...</td>\n",
       "      <td>False</td>\n",
       "      <td>False</td>\n",
       "      <td>False</td>\n",
       "      <td>False</td>\n",
       "      <td>False</td>\n",
       "      <td>False</td>\n",
       "      <td>False</td>\n",
       "      <td>False</td>\n",
       "      <td>True</td>\n",
       "      <td>False</td>\n",
       "    </tr>\n",
       "    <tr>\n",
       "      <th>1</th>\n",
       "      <td>2</td>\n",
       "      <td>7662.0</td>\n",
       "      <td>1</td>\n",
       "      <td>5</td>\n",
       "      <td>445</td>\n",
       "      <td>False</td>\n",
       "      <td>False</td>\n",
       "      <td>False</td>\n",
       "      <td>True</td>\n",
       "      <td>False</td>\n",
       "      <td>...</td>\n",
       "      <td>False</td>\n",
       "      <td>False</td>\n",
       "      <td>False</td>\n",
       "      <td>False</td>\n",
       "      <td>False</td>\n",
       "      <td>False</td>\n",
       "      <td>False</td>\n",
       "      <td>False</td>\n",
       "      <td>True</td>\n",
       "      <td>False</td>\n",
       "    </tr>\n",
       "    <tr>\n",
       "      <th>2</th>\n",
       "      <td>2</td>\n",
       "      <td>13882.0</td>\n",
       "      <td>9</td>\n",
       "      <td>6</td>\n",
       "      <td>1140</td>\n",
       "      <td>False</td>\n",
       "      <td>False</td>\n",
       "      <td>True</td>\n",
       "      <td>False</td>\n",
       "      <td>False</td>\n",
       "      <td>...</td>\n",
       "      <td>False</td>\n",
       "      <td>False</td>\n",
       "      <td>False</td>\n",
       "      <td>False</td>\n",
       "      <td>False</td>\n",
       "      <td>False</td>\n",
       "      <td>False</td>\n",
       "      <td>False</td>\n",
       "      <td>True</td>\n",
       "      <td>False</td>\n",
       "    </tr>\n",
       "    <tr>\n",
       "      <th>3</th>\n",
       "      <td>1</td>\n",
       "      <td>6218.0</td>\n",
       "      <td>12</td>\n",
       "      <td>5</td>\n",
       "      <td>325</td>\n",
       "      <td>False</td>\n",
       "      <td>False</td>\n",
       "      <td>False</td>\n",
       "      <td>True</td>\n",
       "      <td>False</td>\n",
       "      <td>...</td>\n",
       "      <td>False</td>\n",
       "      <td>False</td>\n",
       "      <td>False</td>\n",
       "      <td>False</td>\n",
       "      <td>False</td>\n",
       "      <td>False</td>\n",
       "      <td>False</td>\n",
       "      <td>False</td>\n",
       "      <td>True</td>\n",
       "      <td>False</td>\n",
       "    </tr>\n",
       "    <tr>\n",
       "      <th>4</th>\n",
       "      <td>1</td>\n",
       "      <td>13302.0</td>\n",
       "      <td>1</td>\n",
       "      <td>3</td>\n",
       "      <td>285</td>\n",
       "      <td>True</td>\n",
       "      <td>False</td>\n",
       "      <td>False</td>\n",
       "      <td>False</td>\n",
       "      <td>False</td>\n",
       "      <td>...</td>\n",
       "      <td>False</td>\n",
       "      <td>False</td>\n",
       "      <td>False</td>\n",
       "      <td>False</td>\n",
       "      <td>False</td>\n",
       "      <td>False</td>\n",
       "      <td>False</td>\n",
       "      <td>False</td>\n",
       "      <td>True</td>\n",
       "      <td>False</td>\n",
       "    </tr>\n",
       "  </tbody>\n",
       "</table>\n",
       "<p>5 rows × 38 columns</p>\n",
       "</div>"
      ],
      "text/plain": [
       "   Total_Stops    Price  day  month  Duration_min  Source_Banglore  \\\n",
       "0            0   3897.0   24      3           170             True   \n",
       "1            2   7662.0    1      5           445            False   \n",
       "2            2  13882.0    9      6          1140            False   \n",
       "3            1   6218.0   12      5           325            False   \n",
       "4            1  13302.0    1      3           285             True   \n",
       "\n",
       "   Source_Chennai  Source_Delhi  Source_Kolkata  Source_Mumbai  ...  \\\n",
       "0           False         False           False          False  ...   \n",
       "1           False         False            True          False  ...   \n",
       "2           False          True           False          False  ...   \n",
       "3           False         False            True          False  ...   \n",
       "4           False         False           False          False  ...   \n",
       "\n",
       "   Additional_Info_1 Long layover  Additional_Info_1 Short layover  \\\n",
       "0                           False                            False   \n",
       "1                           False                            False   \n",
       "2                           False                            False   \n",
       "3                           False                            False   \n",
       "4                           False                            False   \n",
       "\n",
       "   Additional_Info_2 Long layover  Additional_Info_Business class  \\\n",
       "0                           False                           False   \n",
       "1                           False                           False   \n",
       "2                           False                           False   \n",
       "3                           False                           False   \n",
       "4                           False                           False   \n",
       "\n",
       "   Additional_Info_Change airports  \\\n",
       "0                            False   \n",
       "1                            False   \n",
       "2                            False   \n",
       "3                            False   \n",
       "4                            False   \n",
       "\n",
       "   Additional_Info_In-flight meal not included  Additional_Info_No Info  \\\n",
       "0                                        False                    False   \n",
       "1                                        False                    False   \n",
       "2                                        False                    False   \n",
       "3                                        False                    False   \n",
       "4                                        False                    False   \n",
       "\n",
       "   Additional_Info_No check-in baggage included  Additional_Info_No info  \\\n",
       "0                                         False                     True   \n",
       "1                                         False                     True   \n",
       "2                                         False                     True   \n",
       "3                                         False                     True   \n",
       "4                                         False                     True   \n",
       "\n",
       "   Additional_Info_Red-eye flight  \n",
       "0                           False  \n",
       "1                           False  \n",
       "2                           False  \n",
       "3                           False  \n",
       "4                           False  \n",
       "\n",
       "[5 rows x 38 columns]"
      ]
     },
     "execution_count": 9,
     "metadata": {},
     "output_type": "execute_result"
    }
   ],
   "source": [
    "df = pd.read_csv('transformed_data.csv')\n",
    "df.head()"
   ]
  },
  {
   "cell_type": "code",
   "execution_count": 10,
   "metadata": {},
   "outputs": [
    {
     "name": "stdout",
     "output_type": "stream",
     "text": [
      "<class 'pandas.core.frame.DataFrame'>\n",
      "RangeIndex: 10462 entries, 0 to 10461\n",
      "Data columns (total 38 columns):\n",
      " #   Column                                        Non-Null Count  Dtype  \n",
      "---  ------                                        --------------  -----  \n",
      " 0   Total_Stops                                   10462 non-null  int64  \n",
      " 1   Price                                         10462 non-null  float64\n",
      " 2   day                                           10462 non-null  int64  \n",
      " 3   month                                         10462 non-null  int64  \n",
      " 4   Duration_min                                  10462 non-null  int64  \n",
      " 5   Source_Banglore                               10462 non-null  bool   \n",
      " 6   Source_Chennai                                10462 non-null  bool   \n",
      " 7   Source_Delhi                                  10462 non-null  bool   \n",
      " 8   Source_Kolkata                                10462 non-null  bool   \n",
      " 9   Source_Mumbai                                 10462 non-null  bool   \n",
      " 10  Destination_Banglore                          10462 non-null  bool   \n",
      " 11  Destination_Cochin                            10462 non-null  bool   \n",
      " 12  Destination_Delhi                             10462 non-null  bool   \n",
      " 13  Destination_Hyderabad                         10462 non-null  bool   \n",
      " 14  Destination_Kolkata                           10462 non-null  bool   \n",
      " 15  Destination_New Delhi                         10462 non-null  bool   \n",
      " 16  Airline_Air Asia                              10462 non-null  bool   \n",
      " 17  Airline_Air India                             10462 non-null  bool   \n",
      " 18  Airline_GoAir                                 10462 non-null  bool   \n",
      " 19  Airline_IndiGo                                10462 non-null  bool   \n",
      " 20  Airline_Jet Airways                           10462 non-null  bool   \n",
      " 21  Airline_Jet Airways Business                  10462 non-null  bool   \n",
      " 22  Airline_Multiple carriers                     10462 non-null  bool   \n",
      " 23  Airline_Multiple carriers Premium economy     10462 non-null  bool   \n",
      " 24  Airline_SpiceJet                              10462 non-null  bool   \n",
      " 25  Airline_Trujet                                10462 non-null  bool   \n",
      " 26  Airline_Vistara                               10462 non-null  bool   \n",
      " 27  Airline_Vistara Premium economy               10462 non-null  bool   \n",
      " 28  Additional_Info_1 Long layover                10462 non-null  bool   \n",
      " 29  Additional_Info_1 Short layover               10462 non-null  bool   \n",
      " 30  Additional_Info_2 Long layover                10462 non-null  bool   \n",
      " 31  Additional_Info_Business class                10462 non-null  bool   \n",
      " 32  Additional_Info_Change airports               10462 non-null  bool   \n",
      " 33  Additional_Info_In-flight meal not included   10462 non-null  bool   \n",
      " 34  Additional_Info_No Info                       10462 non-null  bool   \n",
      " 35  Additional_Info_No check-in baggage included  10462 non-null  bool   \n",
      " 36  Additional_Info_No info                       10462 non-null  bool   \n",
      " 37  Additional_Info_Red-eye flight                10462 non-null  bool   \n",
      "dtypes: bool(33), float64(1), int64(4)\n",
      "memory usage: 746.0 KB\n"
     ]
    }
   ],
   "source": [
    "df.info()"
   ]
  },
  {
   "cell_type": "code",
   "execution_count": 11,
   "metadata": {},
   "outputs": [
    {
     "name": "stdout",
     "output_type": "stream",
     "text": [
      "(8369, 37) (8369,) (2093, 37) (2093,)\n"
     ]
    }
   ],
   "source": [
    "from sklearn.model_selection import train_test_split\n",
    "\n",
    "X = df.drop('Price', axis=1)\n",
    "y = df['Price']\n",
    "\n",
    "X_train, X_test, y_train, y_test = train_test_split(X, y, test_size=0.2, random_state=42)\n",
    "print(X_train.shape, y_train.shape, X_test.shape, y_test.shape)"
   ]
  },
  {
   "cell_type": "code",
   "execution_count": 12,
   "metadata": {},
   "outputs": [],
   "source": [
    "from sklearn.preprocessing import StandardScaler\n",
    "\n",
    "scaler = StandardScaler()\n",
    "X_train_scaled = scaler.fit_transform(X_train)\n",
    "X_test_scaled = scaler.transform(X_test)\n"
   ]
  },
  {
   "cell_type": "code",
   "execution_count": 13,
   "metadata": {},
   "outputs": [],
   "source": [
    "from sklearn.linear_model import LinearRegression, Ridge, Lasso, ElasticNet\n",
    "from sklearn.tree import DecisionTreeRegressor\n",
    "from sklearn.ensemble import RandomForestRegressor, GradientBoostingRegressor, AdaBoostRegressor\n",
    "from sklearn.neighbors import KNeighborsRegressor\n",
    "from sklearn.svm import SVR\n",
    "from xgboost import XGBRegressor\n",
    "from sklearn.metrics import r2_score"
   ]
  },
  {
   "cell_type": "code",
   "execution_count": 14,
   "metadata": {},
   "outputs": [],
   "source": [
    "models = [\n",
    "    ['LinearRegression : ', LinearRegression()],\n",
    "    ['Lasso : ', Lasso()],\n",
    "    ['Ridge : ', Ridge()],\n",
    "    ['ElasticNet :', ElasticNet()],\n",
    "    ['KNeighborsRegressor : ', KNeighborsRegressor()],\n",
    "    ['DecisionTreeRegressor : ', DecisionTreeRegressor()],\n",
    "    ['RandomForestRegressor : ', RandomForestRegressor()],\n",
    "    ['GradientBoostingRegressor : ', GradientBoostingRegressor()],\n",
    "    ['XGBRegressor : ', XGBRegressor()],\n",
    "    ['SVR : ', SVR()],\n",
    "    ['AdaBoostRegressor : ', AdaBoostRegressor()]\n",
    "]"
   ]
  },
  {
   "cell_type": "code",
   "execution_count": 15,
   "metadata": {},
   "outputs": [
    {
     "name": "stdout",
     "output_type": "stream",
     "text": [
      "LinearRegression :  0.8130299300383194\n"
     ]
    },
    {
     "name": "stderr",
     "output_type": "stream",
     "text": [
      "c:\\Projects\\MLOps\\Flight-Price\\venv\\Lib\\site-packages\\sklearn\\linear_model\\_coordinate_descent.py:697: ConvergenceWarning: Objective did not converge. You might want to increase the number of iterations, check the scale of the features or consider increasing regularisation. Duality gap: 8.492e+07, tolerance: 1.801e+07\n",
      "  model = cd_fast.enet_coordinate_descent(\n"
     ]
    },
    {
     "name": "stdout",
     "output_type": "stream",
     "text": [
      "Lasso :  0.812347064140187\n",
      "Ridge :  0.8129109820760152\n",
      "ElasticNet : 0.6746990753922234\n",
      "KNeighborsRegressor :  0.7192169403502\n",
      "DecisionTreeRegressor :  0.8665119630248186\n",
      "RandomForestRegressor :  0.916226188861264\n",
      "GradientBoostingRegressor :  0.8940986680376635\n",
      "XGBRegressor :  0.9251438879781091\n",
      "SVR :  0.4052150172846858\n",
      "AdaBoostRegressor :  0.7221389283287186\n"
     ]
    }
   ],
   "source": [
    "for name, model in models:\n",
    "    model=model\n",
    "    model.fit(X_train, y_train)\n",
    "    predictions = model.predict(X_test)\n",
    "    print(name, (np.sqrt(r2_score(y_test, predictions))))"
   ]
  },
  {
   "cell_type": "code",
   "execution_count": 16,
   "metadata": {},
   "outputs": [],
   "source": [
    "algorithms = {\n",
    "    'XGBRegressor' : {\n",
    "        'model' : XGBRegressor(),\n",
    "        'param' : {\n",
    "            'learning_rate' : [0.1, 0.3, 0.5, 0.25],\n",
    "            'max_depth' : [3, 5, 7],\n",
    "            'gamma' : [0.1, 0.3, 0.5],\n",
    "            'min_child_weight' : [3, 5, 7, 9],\n",
    "        }\n",
    "    },\n",
    "    'RandomForestRegressor' : {\n",
    "        'model' : RandomForestRegressor(),\n",
    "        'param' : {\n",
    "            'n_estimators' : [1000, 300, 500],\n",
    "            'max_depth' : [9, 5, 7],\n",
    "            'min_samples_split' : [2, 4, 6, 8]\n",
    "        }\n",
    "    },\n",
    "    'GradientBoostingRegressor' : {\n",
    "        'model' : GradientBoostingRegressor(),\n",
    "        'param' : {\n",
    "            'learning_rate' : [0.5, 0.1, 0.20, 0.30],\n",
    "            'n_estimators' : [300, 500, 1000],\n",
    "        }\n",
    "    }\n",
    "}\n",
    "\n",
    "from sklearn.model_selection import GridSearchCV"
   ]
  },
  {
   "cell_type": "code",
   "execution_count": 17,
   "metadata": {},
   "outputs": [
    {
     "name": "stdout",
     "output_type": "stream",
     "text": [
      "Fitting 10 folds for each of 144 candidates, totalling 1440 fits\n"
     ]
    },
    {
     "name": "stderr",
     "output_type": "stream",
     "text": [
      "c:\\Projects\\MLOps\\Flight-Price\\venv\\Lib\\site-packages\\numpy\\ma\\core.py:2881: RuntimeWarning: invalid value encountered in cast\n",
      "  _data = np.array(data, dtype=dtype, copy=copy,\n"
     ]
    },
    {
     "name": "stdout",
     "output_type": "stream",
     "text": [
      "Fitting 10 folds for each of 36 candidates, totalling 360 fits\n",
      "Fitting 10 folds for each of 12 candidates, totalling 120 fits\n"
     ]
    }
   ],
   "source": [
    "score = []\n",
    "\n",
    "for name, mp in algorithms.items() :\n",
    "    rs = GridSearchCV(estimator = mp['model'], param_grid = mp['param'], cv = 10, n_jobs=-1, verbose=3)\n",
    "    rs.fit(X_train, y_train)\n",
    "    score.append({\n",
    "        'model': name,\n",
    "        'score' : rs.best_score_,\n",
    "        'params' : rs.best_params_\n",
    "    })"
   ]
  },
  {
   "cell_type": "code",
   "execution_count": 18,
   "metadata": {},
   "outputs": [
    {
     "data": {
      "text/html": [
       "<div>\n",
       "<style scoped>\n",
       "    .dataframe tbody tr th:only-of-type {\n",
       "        vertical-align: middle;\n",
       "    }\n",
       "\n",
       "    .dataframe tbody tr th {\n",
       "        vertical-align: top;\n",
       "    }\n",
       "\n",
       "    .dataframe thead th {\n",
       "        text-align: right;\n",
       "    }\n",
       "</style>\n",
       "<table border=\"1\" class=\"dataframe\">\n",
       "  <thead>\n",
       "    <tr style=\"text-align: right;\">\n",
       "      <th></th>\n",
       "      <th>model</th>\n",
       "      <th>score</th>\n",
       "      <th>params</th>\n",
       "    </tr>\n",
       "  </thead>\n",
       "  <tbody>\n",
       "    <tr>\n",
       "      <th>0</th>\n",
       "      <td>XGBRegressor</td>\n",
       "      <td>0.865866</td>\n",
       "      <td>{'gamma': 0.1, 'learning_rate': 0.3, 'max_dept...</td>\n",
       "    </tr>\n",
       "    <tr>\n",
       "      <th>1</th>\n",
       "      <td>RandomForestRegressor</td>\n",
       "      <td>0.837372</td>\n",
       "      <td>{'max_depth': 9, 'min_samples_split': 2, 'n_es...</td>\n",
       "    </tr>\n",
       "    <tr>\n",
       "      <th>2</th>\n",
       "      <td>GradientBoostingRegressor</td>\n",
       "      <td>0.861548</td>\n",
       "      <td>{'learning_rate': 0.2, 'n_estimators': 1000}</td>\n",
       "    </tr>\n",
       "  </tbody>\n",
       "</table>\n",
       "</div>"
      ],
      "text/plain": [
       "                       model     score  \\\n",
       "0               XGBRegressor  0.865866   \n",
       "1      RandomForestRegressor  0.837372   \n",
       "2  GradientBoostingRegressor  0.861548   \n",
       "\n",
       "                                              params  \n",
       "0  {'gamma': 0.1, 'learning_rate': 0.3, 'max_dept...  \n",
       "1  {'max_depth': 9, 'min_samples_split': 2, 'n_es...  \n",
       "2       {'learning_rate': 0.2, 'n_estimators': 1000}  "
      ]
     },
     "execution_count": 18,
     "metadata": {},
     "output_type": "execute_result"
    }
   ],
   "source": [
    "final = pd.DataFrame(score, columns=['model', 'score', 'params'])\n",
    "final"
   ]
  },
  {
   "cell_type": "code",
   "execution_count": 21,
   "metadata": {},
   "outputs": [
    {
     "name": "stdout",
     "output_type": "stream",
     "text": [
      "XGBRegressor\n",
      "0.865865623224056\n",
      "{'gamma': 0.1, 'learning_rate': 0.3, 'max_depth': 5, 'min_child_weight': 3}\n",
      "RandomForestRegressor\n",
      "0.8373721924363211\n",
      "{'max_depth': 9, 'min_samples_split': 2, 'n_estimators': 1000}\n",
      "GradientBoostingRegressor\n",
      "0.8615477299156321\n",
      "{'learning_rate': 0.2, 'n_estimators': 1000}\n"
     ]
    }
   ],
   "source": [
    "for m in range(len(final)):\n",
    "    for i in final.iloc[m, :]:\n",
    "        print(i)"
   ]
  }
 ],
 "metadata": {
  "kernelspec": {
   "display_name": "Python 3",
   "language": "python",
   "name": "python3"
  },
  "language_info": {
   "codemirror_mode": {
    "name": "ipython",
    "version": 3
   },
   "file_extension": ".py",
   "mimetype": "text/x-python",
   "name": "python",
   "nbconvert_exporter": "python",
   "pygments_lexer": "ipython3",
   "version": "3.11.0"
  }
 },
 "nbformat": 4,
 "nbformat_minor": 2
}
